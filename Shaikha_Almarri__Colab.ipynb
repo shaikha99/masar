{
  "nbformat": 4,
  "nbformat_minor": 0,
  "metadata": {
    "colab": {
      "provenance": [],
      "include_colab_link": true
    },
    "kernelspec": {
      "name": "python3",
      "display_name": "Python 3"
    },
    "language_info": {
      "name": "python"
    }
  },
  "cells": [
    {
      "cell_type": "markdown",
      "metadata": {
        "id": "view-in-github",
        "colab_type": "text"
      },
      "source": [
        "<a href=\"https://colab.research.google.com/github/shaikha99/masar/blob/main/Shaikha_Almarri__Colab.ipynb\" target=\"_parent\"><img src=\"https://colab.research.google.com/assets/colab-badge.svg\" alt=\"Open In Colab\"/></a>"
      ]
    },
    {
      "cell_type": "markdown",
      "source": [
        "#Data Type"
      ],
      "metadata": {
        "id": "CR5H_RTKzz3z"
      }
    },
    {
      "cell_type": "markdown",
      "source": [
        "نعم، في بايثون هناك العديد من أنواع البيانات المدمجة المهمة التي يمكن استخدامها لتمثيل المعلومات. إليك بعض الأنواع الأساسية:\n",
        "\n",
        "1. **int (الأعداد الصحيحة):** تُستخدم لتمثيل الأعداد الصحيحة، مثل 1 و -5 و 100.\n",
        "\n",
        "    ```python\n",
        "    x = 5\n",
        "    ```\n",
        "\n",
        "2. **float (الأعداد العائمة):** تُستخدم لتمثيل الأعداد العائمة (الكسور أو الأعداد العشرية).\n",
        "\n",
        "    ```python\n",
        "    y = 3.14\n",
        "    ```\n",
        "\n",
        "3. **str (النصوص):** تُستخدم لتمثيل النصوص، ويمكن تحديدها بين علامتي اقتباس (فردية أو مزدوجة).\n",
        "\n",
        "    ```python\n",
        "    name = \"John\"\n",
        "    ```\n",
        "\n",
        "4. **bool (القيم االمنطقية):** تُستخدم لتمثيل القيم المنطقية (True أو False).\n",
        "True تساوي 1 و القيمة False تساوي 0.\n",
        "\n",
        "    ```python\n",
        "    is_student = True\n",
        "    ```\n",
        "\n",
        "5. **list (القوائم):** تُستخدم لتخزين مجموعة من القيم، ويمكن أن تحتوي على أنواع مختلفة.\n",
        "\n",
        "    ```python\n",
        "    numbers = [1, 2, 3, 4, 5]\n",
        "    ```\n",
        "\n",
        "6. **tuple (التراص):** شبيهة بالقوائم ولكنها لا يمكن تعديلها بعد إنشائها.\n",
        "\n",
        "    ```python\n",
        "    coordinates = (10, 20)\n",
        "    ```\n",
        "\n",
        "7. **dict (القواميس):** تُستخدم لتخزين البيانات في صورة أزواج \"مفتاح-قيمة\".\n",
        "```python\n",
        "    person = {\"name\": \"Alice\", \"age\": 25, \"city\": \"New York\"}\n",
        "    ```"
      ],
      "metadata": {
        "id": "5pEVPcKqtu7H"
      }
    },
    {
      "cell_type": "code",
      "source": [
        "# type() function is used to determine the type of data type.\n",
        "a = 5\n",
        "print(type(a))"
      ],
      "metadata": {
        "id": "HAwpAtFECSJp"
      },
      "execution_count": null,
      "outputs": []
    },
    {
      "cell_type": "code",
      "source": [
        "b = 5.0\n",
        "print(type(b))"
      ],
      "metadata": {
        "id": "0Y77vDWLC14H"
      },
      "execution_count": null,
      "outputs": []
    },
    {
      "cell_type": "code",
      "source": [
        "print(type(False))"
      ],
      "metadata": {
        "id": "eDVdbFASC5CS"
      },
      "execution_count": null,
      "outputs": []
    },
    {
      "cell_type": "code",
      "source": [
        "print(type(true))"
      ],
      "metadata": {
        "colab": {
          "base_uri": "https://localhost:8080/",
          "height": 176
        },
        "id": "BR-aHqZeDTKa",
        "outputId": "3079c047-443e-4686-b57e-2a9476272a31"
      },
      "execution_count": null,
      "outputs": [
        {
          "output_type": "error",
          "ename": "NameError",
          "evalue": "name 'true' is not defined",
          "traceback": [
            "\u001b[0;31m---------------------------------------------------------------------------\u001b[0m",
            "\u001b[0;31mNameError\u001b[0m                                 Traceback (most recent call last)",
            "\u001b[0;32m<ipython-input-1-6fd314972159>\u001b[0m in \u001b[0;36m<cell line: 1>\u001b[0;34m()\u001b[0m\n\u001b[0;32m----> 1\u001b[0;31m \u001b[0mprint\u001b[0m\u001b[0;34m(\u001b[0m\u001b[0mtype\u001b[0m\u001b[0;34m(\u001b[0m\u001b[0mtrue\u001b[0m\u001b[0;34m)\u001b[0m\u001b[0;34m)\u001b[0m\u001b[0;34m\u001b[0m\u001b[0;34m\u001b[0m\u001b[0m\n\u001b[0m",
            "\u001b[0;31mNameError\u001b[0m: name 'true' is not defined"
          ]
        }
      ]
    },
    {
      "cell_type": "code",
      "source": [
        "A = []                                 # هنا قمنا بتعريف مصفوفة فارغة\n",
        "B = [10, 20, 30, 40, 50]               # هنا قمنا بتعريف مصفوفة تحتوي على أعداد صحيحة فقط\n",
        "C = ['Mhamad', 'Samer', 'Abdullah']    # هنا قمنا بتعريف مصفوفة تحتوي على نصوص فقط\n",
        "D = [1, 'two', 'three', 4]             # هنا قمنا بتعريف مصفوفة تحتوي على أعداد صحيحة و نصوص"
      ],
      "metadata": {
        "id": "wTBytu4U4I9n"
      },
      "execution_count": 11,
      "outputs": []
    },
    {
      "cell_type": "code",
      "source": [
        "A = ()                                 # هنا قمنا بتعريف مصفوفة فارغة\n",
        "B = (10, 20, 30, 40, 50)               # هنا قمنا بتعريف مصفوفة تحتوي على أعداد صحيحة فقط\n",
        "C = ('Mhamad', 'Samer', 'Abdullah')    # هنا قمنا بتعريف مصفوفة تحتوي على نصوص فقط\n",
        "D = (1, 'two', 'three', 4)             # هنا قمنا بتعريف مصفوفة تحتوي على أعداد صحيحة و نصوص"
      ],
      "metadata": {
        "id": "xmWnMrZU4Q8d"
      },
      "execution_count": 12,
      "outputs": []
    },
    {
      "cell_type": "code",
      "source": [
        "# يتألف من 5 عناصر dictionary هنا قمنا بتعريف\n",
        "dictionary = {\n",
        "    1: 'One',\n",
        "    2: 'Tow',\n",
        "    3: 'Three',\n",
        "    4: 'Four',\n",
        "    5: 'Five'\n",
        "}\n",
        "\n",
        "dictionary = {1:'One', 2: 'Tow', 3: 'Three',4: 'Four',5: 'Five'}\n",
        "# هنا قمنا بعرض قيمة العنصر الذي يحمل المفتاح رقم 3\n",
        "print(dictionary[2])"
      ],
      "metadata": {
        "id": "c0UJTB6RDXe-",
        "colab": {
          "base_uri": "https://localhost:8080/"
        },
        "outputId": "f484e469-f0b8-4de2-8e46-186fe9f17eb8"
      },
      "execution_count": 3,
      "outputs": [
        {
          "output_type": "stream",
          "name": "stdout",
          "text": [
            "Tow\n"
          ]
        }
      ]
    },
    {
      "cell_type": "code",
      "source": [
        "#معسكر_مسار\n",
        "name = 'Shaikha'\n",
        "message = '''Hi Dana! I would like to thank you for teaching me how to write code in Python. My goal in this course is to analyze data by python'''\n",
        "# هنا قمنا بعرض قيم المتغيرات النصية بأسلوب مرتب\n",
        "print('Name: ', name)\n",
        "print('Message: ', message)"
      ],
      "metadata": {
        "colab": {
          "base_uri": "https://localhost:8080/"
        },
        "id": "Imd0jZRCD_4u",
        "outputId": "0c1a683d-72e8-486e-b881-8210f0e6eb0f"
      },
      "execution_count": 10,
      "outputs": [
        {
          "output_type": "stream",
          "name": "stdout",
          "text": [
            "Name:  Shaikha\n",
            "Message:  Hi Dana! I would like to thank you for teaching me how to write code in Python. My goal in this course is to analyze data by python\n"
          ]
        }
      ]
    },
    {
      "cell_type": "markdown",
      "source": [
        "#if Statment\n"
      ],
      "metadata": {
        "id": "0O0gl-ortJmq"
      }
    },
    {
      "cell_type": "markdown",
      "source": [
        "في لغة البرمجة بايثون، تُستخدم الجمل الشرطية لتنفيذ قطعة معينة من الكود إذا تحققت شرط معين. هناك نوعان رئيسيان من الجمل الشرطية في بايثون:\n",
        "\n",
        "جملة if وجملة else.\n",
        "\n",
        "الجملة `if`:\n",
        "\n",
        "```\n",
        "age = 55\n",
        "\n",
        "if age >= 18:\n",
        "\n",
        "print(\"أنت بالغ.\")\n",
        "```\n",
        "\n",
        "\n",
        "الجملة `else`:\n",
        "تُستخدم لتحديد كتلة من الكود التي يجب تنفيذها إذا لم يكن الشرط الاول المحدد صحيحا\n",
        "\n",
        "\n",
        ". صيغة الجملة `else`\n",
        "\n",
        "تأتي بعد الجملة `if`\n",
        "وتكون كالتالي:\n",
        "\n",
        "\n",
        "```\n",
        "age = 15\n",
        "\n",
        "if\n",
        "age > 18:\n",
        "    print(\"أنت بالغ.\")\n",
        "else:\n",
        "    print(\"أنت قاصر.\")\n",
        "```\n",
        "\n",
        "يمكن أيضًا استخدام جمل\n",
        "`elif`\n",
        "\n",
        "elif (اختصار لـ else if) لفحص شروط إضافية في حالة عدم تحقق الشرط الأولي.\n",
        "\n",
        "```\n",
        "```\n",
        "\n",
        "\n"
      ],
      "metadata": {
        "id": "1ai0Rvscv4A4"
      }
    },
    {
      "cell_type": "code",
      "source": [
        "age = 55\n",
        "\n",
        "if age >= 18:\n",
        "  print(\"أنت بالغ.\")"
      ],
      "metadata": {
        "id": "hYzyVpWjt-Yc"
      },
      "execution_count": null,
      "outputs": []
    },
    {
      "cell_type": "code",
      "source": [
        "age = 15\n",
        "\n",
        "if\n",
        "age > 18:\n",
        "    print(\"أنت بالغ.\")\n",
        "else:\n",
        "    print(\"أنت قاصر.\")"
      ],
      "metadata": {
        "id": "6ZONaYnXyS9Z"
      },
      "execution_count": null,
      "outputs": []
    },
    {
      "cell_type": "code",
      "source": [
        "number = 0\n",
        "\n",
        "\n",
        "    print('Positive number')\n",
        "    print('Negative number')\n",
        "    print('Zero')"
      ],
      "metadata": {
        "id": "VJZQdk63yaza",
        "colab": {
          "base_uri": "https://localhost:8080/",
          "height": 141
        },
        "outputId": "1cb264f2-c5a7-40b9-e40c-c6343a88fded"
      },
      "execution_count": 7,
      "outputs": [
        {
          "output_type": "error",
          "ename": "IndentationError",
          "evalue": "unexpected indent (<ipython-input-7-2ec3bec0e330>, line 3)",
          "traceback": [
            "\u001b[0;36m  File \u001b[0;32m\"<ipython-input-7-2ec3bec0e330>\"\u001b[0;36m, line \u001b[0;32m3\u001b[0m\n\u001b[0;31m    print('Positive number')\u001b[0m\n\u001b[0m    ^\u001b[0m\n\u001b[0;31mIndentationError\u001b[0m\u001b[0;31m:\u001b[0m unexpected indent\n"
          ]
        }
      ]
    },
    {
      "cell_type": "code",
      "source": [
        "check = True\n",
        "# True تساوي check سيتم تنفيذ أمر الطباعة الموضوع هنا إذا كانت قيمة المتغير\n",
        "if check == True:\n",
        "    print('check = True')\n",
        "# False أي إذا كانت تساوي True تساوي check سيتم تنفيذ أمر الطباعة الموضوع هنا إذا لم تكن قيمة المتغير\n",
        "else:\n",
        "    print('check = False')"
      ],
      "metadata": {
        "id": "8jqKDsiWEzF2"
      },
      "execution_count": null,
      "outputs": []
    },
    {
      "cell_type": "markdown",
      "source": [
        "#العوامل التي تستخدم في وضع شروط منطقية (Logical Operators)"
      ],
      "metadata": {
        "id": "B_ASpOi_5Kvb"
      }
    },
    {
      "cell_type": "markdown",
      "source": [
        "`if شرط_أول or شرط_ثاني:`\n",
        "\n",
        "الكود الذي سيُنفذ إذا كان أي من الشروط صحيحًا\n",
        "\n",
        "\n",
        "`if شرط_أول and شرط_ثاني:`\n",
        "\n",
        "الكود الذي سيُنفذ إذا كانت جميع الشروط صحيحة"
      ],
      "metadata": {
        "id": "dURuRs4Oys9l"
      }
    },
    {
      "cell_type": "code",
      "source": [
        "a = 10\n",
        "b = 20\n",
        "\n",
        "# تساوي 20 سيتم تنفيذ أمر الطباعة b تساوي 10, و قيمة المتغير a الشرط التالي يعني أنه إذا كانت قيمة المتغير\n",
        "if a == 10 and b == 20:\n",
        "    print('The first and the second conditions return True')"
      ],
      "metadata": {
        "id": "IyA1Wc_7zEzn"
      },
      "execution_count": null,
      "outputs": []
    },
    {
      "cell_type": "code",
      "source": [
        "# Python program to demonstrate\n",
        "# logical and operator\n",
        "\n",
        "a = 10\n",
        "b = 12\n",
        "c = 0\n",
        "\n",
        "if :\n",
        "    print(\"All the numbers have boolean value as True\")\n",
        "else:\n",
        "    print(\"Atleast one number has boolean value as False\")"
      ],
      "metadata": {
        "id": "3sPUUjOLGgMV"
      },
      "execution_count": null,
      "outputs": []
    }
  ]
}