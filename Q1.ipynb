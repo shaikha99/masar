{
  "nbformat": 4,
  "nbformat_minor": 0,
  "metadata": {
    "colab": {
      "provenance": [],
      "authorship_tag": "ABX9TyMyna4qzPJwNFVgMiA4HHRd",
      "include_colab_link": true
    },
    "kernelspec": {
      "name": "python3",
      "display_name": "Python 3"
    },
    "language_info": {
      "name": "python"
    }
  },
  "cells": [
    {
      "cell_type": "markdown",
      "metadata": {
        "id": "view-in-github",
        "colab_type": "text"
      },
      "source": [
        "<a href=\"https://colab.research.google.com/github/shaikha99/masar/blob/main/Q1.ipynb\" target=\"_parent\"><img src=\"https://colab.research.google.com/assets/colab-badge.svg\" alt=\"Open In Colab\"/></a>"
      ]
    },
    {
      "cell_type": "code",
      "execution_count": 5,
      "metadata": {
        "colab": {
          "base_uri": "https://localhost:8080/"
        },
        "id": "OfYQFpEbqDUO",
        "outputId": "53445e5a-5bb6-482f-d34f-bc7b252aa642"
      },
      "outputs": [
        {
          "output_type": "stream",
          "name": "stdout",
          "text": [
            "[0, 2]\n"
          ]
        }
      ],
      "source": [
        "#فلتعتبر أن لديك مصفوفة فيها عدة أرقام, حاول أن تجد عددين يكون المجموع عدد معرف مسبق معطى لك. فلنفرض أن المجموع موجود في هذه المصفوفة\n",
        "\n",
        "def two_sum(nums, target):\n",
        "    num_dict = {}\n",
        "    for i, num in enumerate(nums):\n",
        "        difference = target - num\n",
        "        if difference in num_dict:\n",
        "            return [num_dict[difference], i]\n",
        "        num_dict[num] = i\n",
        "    return None\n",
        "nums = [3, 4, 12, 8,7,10,6,11]\n",
        "target = 15\n",
        "print(two_sum(nums, target))"
      ]
    }
  ]
}