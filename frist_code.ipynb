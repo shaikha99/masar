{
  "nbformat": 4,
  "nbformat_minor": 0,
  "metadata": {
    "colab": {
      "provenance": [],
      "authorship_tag": "ABX9TyPCWKCIAc35trJ820RJ29bY",
      "include_colab_link": true
    },
    "kernelspec": {
      "name": "python3",
      "display_name": "Python 3"
    },
    "language_info": {
      "name": "python"
    }
  },
  "cells": [
    {
      "cell_type": "markdown",
      "metadata": {
        "id": "view-in-github",
        "colab_type": "text"
      },
      "source": [
        "<a href=\"https://colab.research.google.com/github/shaikha99/masar/blob/main/frist_code.ipynb\" target=\"_parent\"><img src=\"https://colab.research.google.com/assets/colab-badge.svg\" alt=\"Open In Colab\"/></a>"
      ]
    },
    {
      "cell_type": "code",
      "execution_count": 3,
      "metadata": {
        "id": "OxW6XMlYG1bQ",
        "colab": {
          "base_uri": "https://localhost:8080/"
        },
        "outputId": "108cbd81-88a9-4e7a-c9e9-3aa38a6769fe"
      },
      "outputs": [
        {
          "output_type": "stream",
          "name": "stdout",
          "text": [
            "My name is shaikha my age is 23I am really interested and enjoying learning data analysis\n"
          ]
        }
      ],
      "source": [
        "# الكود الاول مع منصة مسار البطلة\n",
        "\n",
        "name = 'shaikha'\n",
        "\n",
        "age = 23\n",
        "\n",
        "print( 'My name is '  +  name   +   \" my age is \"  + str(age) + \"I am really interested and enjoying learning data analysis\")"
      ]
    }
  ]
}