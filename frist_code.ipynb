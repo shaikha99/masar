{
  "nbformat": 4,
  "nbformat_minor": 0,
  "metadata": {
    "colab": {
      "provenance": [],
      "authorship_tag": "ABX9TyMKsmTCzKRzY24J8+J17Jn2",
      "include_colab_link": true
    },
    "kernelspec": {
      "name": "python3",
      "display_name": "Python 3"
    },
    "language_info": {
      "name": "python"
    }
  },
  "cells": [
    {
      "cell_type": "markdown",
      "metadata": {
        "id": "view-in-github",
        "colab_type": "text"
      },
      "source": [
        "<a href=\"https://colab.research.google.com/github/shaikha99/masar/blob/main/frist_code.ipynb\" target=\"_parent\"><img src=\"https://colab.research.google.com/assets/colab-badge.svg\" alt=\"Open In Colab\"/></a>"
      ]
    },
    {
      "cell_type": "code",
      "execution_count": null,
      "metadata": {
        "id": "OxW6XMlYG1bQ",
        "colab": {
          "base_uri": "https://localhost:8080/"
        },
        "outputId": "9a6e0f5e-fd88-4940-d3d8-eb2dcd9ac535"
      },
      "outputs": [
        {
          "output_type": "stream",
          "name": "stdout",
          "text": [
            "My name is shaikha my age is 24\n"
          ]
        }
      ],
      "source": [
        "# الكود الاول مع منصة مسار البطلة\n",
        "\n",
        "name = 'shaikha'\n",
        "\n",
        "age = 24\n",
        "\n",
        "print( 'My name is '  +  name   +   \" my age is \"  + str(age))"
      ]
    }
  ]
}